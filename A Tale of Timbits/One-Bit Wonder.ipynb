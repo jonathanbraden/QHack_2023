{
 "cells": [
  {
   "cell_type": "code",
   "execution_count": 1,
   "id": "e7d75a16",
   "metadata": {},
   "outputs": [],
   "source": [
    "import json\n",
    "import pennylane as qml\n",
    "import pennylane.numpy as np\n",
    "import scipy"
   ]
  },
  {
   "cell_type": "code",
   "execution_count": 2,
   "id": "549a56e3",
   "metadata": {},
   "outputs": [],
   "source": [
    "U_NP = [[1, 0, 0, 0], [0, 0, 0, 1], [0, 1, 0, 0], [0, 0, 1, 0]]\n",
    "\n",
    "def calculate_timbit(U, rho_0, rho, n_iters):\n",
    "    \"\"\"\n",
    "    This function will return a timbit associated to the operator U and a state passed as an attribute.\n",
    "\n",
    "    Args:\n",
    "        U (numpy.tensor): A 2-qubit gate in matrix form.\n",
    "        rho_0 (numpy.tensor): The matrix of the input density matrix.\n",
    "        rho (numpy.tensor): A guess at the fixed point C[rho] = rho.\n",
    "        n_iters (int): The number of iterations of C.\n",
    "\n",
    "    Returns:\n",
    "        (numpy.tensor): The fixed point density matrices.\n",
    "    \"\"\"\n",
    "\n",
    "    # Put your code here #\n",
    "    dev_it = qml.device('default.mixed',wires=2)    \n",
    "    @qml.qnode(dev_it)\n",
    "    def iterate_timbit(rho, U, rho_0):\n",
    "        qml.QubitDensityMatrix(rho_0, wires=[0])\n",
    "        qml.QubitDensityMatrix(rho, wires=[1])\n",
    "        \n",
    "        qml.QubitUnitary(U,wires=[0,1])\n",
    "        \n",
    "        return qml.density_matrix(wires=[1])\n",
    "    \n",
    "    timbit = np.copy(rho)\n",
    "    for _ in range(n_iters):\n",
    "        timbit = iterate_timbit(timbit, U, rho_0)\n",
    "    \n",
    "    return timbit\n",
    "            \n",
    "        \n",
    "def apply_timbit_gate(U, rho_0, timbit):\n",
    "    \"\"\"\n",
    "    Function that returns the output density matrix after applying a timbit gate to a state.\n",
    "    The density matrix is the one associated with the first qubit.\n",
    "\n",
    "    Args:\n",
    "        U (numpy.tensor): A 2-qubit gate in matrix form.\n",
    "        rho_0 (numpy.tensor): The matrix of the input density matrix.\n",
    "        timbit (numpy.tensor): The timbit associated with the operator and the state.\n",
    "\n",
    "    Returns:\n",
    "        (numpy.tensor): The output density matrices.\n",
    "    \"\"\"\n",
    "\n",
    "\n",
    "    # Put your code here #\n",
    "    dev_tb = qml.device('default.mixed',wires=2)    \n",
    "    @qml.qnode(dev_tb)\n",
    "    def timbit_gate(tb, U, rho_0):\n",
    "        qml.QubitDensityMatrix(rho_0, wires=[0])\n",
    "        qml.QubitDensityMatrix(tb, wires=[1])\n",
    "        \n",
    "        qml.QubitUnitary(U,wires=[0,1])\n",
    "        return qml.density_matrix(wires=[0])\n",
    "    \n",
    "    return timbit_gate(timbit, U, rho_0)\n",
    "    \n",
    "\n",
    "def SAT(U_f, q, rho, n_bits):\n",
    "    \"\"\"A timbit-based algorithm used to guess if a Boolean function ever outputs 1.\n",
    "\n",
    "    Args:\n",
    "        U_f (numpy.tensor): A multi-qubit gate in matrix form.\n",
    "        q (int): Number of times we apply the Timbit gate.\n",
    "        rho (numpy.tensor): An initial guess at the fixed point C[rho] = rho.\n",
    "        n_bits (int): The number of bits the Boolean function is defined on.\n",
    "\n",
    "    Returns:\n",
    "        numpy.tensor: The measurement probabilities on the last wire.\n",
    "    \"\"\"\n",
    "\n",
    "\n",
    "    # Put your code here #\n",
    "    timbit_its = 10\n",
    " \n",
    "    dev_bits = n_bits\n",
    "    out_bit = n_bits-1\n",
    "\n",
    "    dev = qml.device('default.mixed', wires=dev_bits)\n",
    "    @qml.qnode(dev)\n",
    "    def apply_oracle(U_f, n_bits):\n",
    "        for i in range(n_bits-1):\n",
    "            qml.Hadamard(i)\n",
    "        qml.QubitUnitary(U_f,wires=dev.wires)  # Fix this\n",
    "        \n",
    "        return qml.density_matrix(wires=out_bit)\n",
    "\n",
    "    dm = apply_oracle(U_f, n_bits)\n",
    "    \n",
    "    # Not sure I can just do this, since I'm now outside of the device\n",
    "    timbit = np.copy(rho)\n",
    "    rho0 = np.copy(dm)\n",
    "    for _ in range(q):\n",
    "        timbit = calculate_timbit(U_NP, rho0, timbit, timbit_its)  # might be overkill\n",
    "        rho0 = apply_timbit_gate(U_NP, rho0, timbit)\n",
    "        \n",
    "    dev0 = qml.device('default.mixed', wires=1)\n",
    "    @qml.qnode(dev0)\n",
    "    def get_probs(r):\n",
    "        qml.QubitDensityMatrix(r,wires=0)\n",
    "        return qml.probs()\n",
    "\n",
    "    return get_probs(rho0)\n",
    "        "
   ]
  },
  {
   "cell_type": "code",
   "execution_count": 3,
   "id": "74dbb29c",
   "metadata": {},
   "outputs": [],
   "source": [
    "# These functions are responsible for testing the solution.\n",
    "def run(test_case_input: str) -> str:\n",
    "\n",
    "    I = np.eye(2)\n",
    "    X = qml.matrix(qml.PauliX(0))\n",
    "\n",
    "    U_f = scipy.linalg.block_diag(I, X, I, I, I, I, I, I)\n",
    "    rho = [[0.6+0.j , 0.1-0.1j],[0.1+0.1j, 0.4+0.j]]\n",
    "    \n",
    "    q = json.loads(test_case_input)\n",
    "    output = list(SAT(U_f, q, rho,4))\n",
    "\n",
    "    return str(output)\n",
    "\n",
    "def check(solution_output: str, expected_output: str) -> None:\n",
    "\n",
    "    solution_output = json.loads(solution_output)\n",
    "    expected_output = json.loads(expected_output)\n",
    "\n",
    "    rho = [[0.6+0.j , 0.1-0.1j],[0.1+0.1j, 0.4+0.j]]\n",
    "    rho_0 = [[0.6+0.j , 0.1-0.1j],[0.1+0.1j, 0.4+0.j]]\n",
    "\n",
    "    assert np.allclose(\n",
    "        solution_output, expected_output, atol=0.01\n",
    "    ), \"Your NP-solving timbit computer isn't quite right yet!\""
   ]
  },
  {
   "cell_type": "code",
   "execution_count": 4,
   "id": "6b731051",
   "metadata": {},
   "outputs": [
    {
     "name": "stdout",
     "output_type": "stream",
     "text": [
      "Running test case 0 with input '1'...\n",
      "Correct!\n",
      "Running test case 1 with input '2'...\n",
      "Correct!\n"
     ]
    }
   ],
   "source": [
    "test_cases = [['1', '[0.78125, 0.21875]'], ['2', '[0.65820312, 0.34179687]']]\n",
    "\n",
    "for i, (input_, expected_output) in enumerate(test_cases):\n",
    "    print(f\"Running test case {i} with input '{input_}'...\")\n",
    "\n",
    "    try:\n",
    "        output = run(input_)\n",
    "\n",
    "    except Exception as exc:\n",
    "        print(f\"Runtime Error. {exc}\")\n",
    "\n",
    "    else:\n",
    "        if message := check(output, expected_output):\n",
    "            print(f\"Wrong Answer. Have: '{output}'. Want: '{expected_output}'.\")\n",
    "\n",
    "        else:\n",
    "            print(\"Correct!\")"
   ]
  },
  {
   "cell_type": "markdown",
   "id": "2291781c",
   "metadata": {},
   "source": [
    "Testing how code works down here"
   ]
  },
  {
   "cell_type": "code",
   "execution_count": null,
   "id": "db5354c9",
   "metadata": {},
   "outputs": [],
   "source": [
    "rho = [[0.6+0.j , 0.1-0.1j],[0.1+0.1j, 0.4+0.j]]\n",
    "rho_0 = [[0.6+0.j , 0.1-0.1j],[0.1+0.1j, 0.4+0.j]]"
   ]
  },
  {
   "cell_type": "code",
   "execution_count": null,
   "id": "48c2ba8c",
   "metadata": {},
   "outputs": [],
   "source": [
    "rho = np.array(rho)\n",
    "rho_0 = np.array(rho_0)"
   ]
  },
  {
   "cell_type": "code",
   "execution_count": null,
   "id": "5c507aa6",
   "metadata": {},
   "outputs": [],
   "source": [
    "dev = qml.device('default.mixed',wires=2)\n",
    "@qml.qnode(dev)\n",
    "def dens_matrix(rho_0,rho):\n",
    "    qml.QubitDensityMatrix(rho_0,wires=[0])\n",
    "    qml.QubitDensityMatrix(rho,wires=[1])\n",
    "    \n",
    "    return qml.density_matrix(wires=[0,1])"
   ]
  },
  {
   "cell_type": "code",
   "execution_count": null,
   "id": "eb974b43",
   "metadata": {},
   "outputs": [],
   "source": [
    "dens_matrix(rho,rho_0)"
   ]
  },
  {
   "cell_type": "code",
   "execution_count": null,
   "id": "b0d392c8",
   "metadata": {},
   "outputs": [],
   "source": [
    "dm = np.zeros((4,4), dtype=np.complex128)\n",
    "dm[:2,:2] = rho_0[0,0]*rho\n",
    "dm[:2,2:] = rho_0[0,1]*rho\n",
    "dm[2:,:2] = rho_0[1,0]*rho\n",
    "dm[2:,2:] = rho_0[1,1]*rho\n",
    "\n",
    "dm"
   ]
  },
  {
   "cell_type": "code",
   "execution_count": null,
   "id": "d75dca00",
   "metadata": {},
   "outputs": [],
   "source": [
    "# Need to trace over the density matrix\n",
    "\n",
    "dev_tim = qml.device('default.mixed',wires=2)\n",
    "@qml.qnode(dev_tim)\n",
    "def iterate_timbit(r1,U,r0):\n",
    "    qml.QubitDensityMatrix(r0,wires=[0])\n",
    "    qml.QubitDensityMatrix(r1,wires=[1])\n",
    "    qml.QubitUnitary(U, wires=[0,1])\n",
    "    \n",
    "    return qml.density_matrix(wires=[1])"
   ]
  },
  {
   "cell_type": "code",
   "execution_count": null,
   "id": "66e23adb",
   "metadata": {},
   "outputs": [],
   "source": [
    "U = [[1, 0, 0, 0], [0, 0, 0, 1], [0, 1, 0, 0], [0, 0, 1, 0]]\n",
    "\n",
    "timbit = rho\n",
    "rho_init = rho_0\n"
   ]
  },
  {
   "cell_type": "code",
   "execution_count": null,
   "id": "e1188faa",
   "metadata": {},
   "outputs": [],
   "source": [
    "timbit = iterate_timbit(timbit,U,rho_init)\n",
    "print(timbit)"
   ]
  },
  {
   "cell_type": "code",
   "execution_count": null,
   "id": "fef22dcd",
   "metadata": {},
   "outputs": [],
   "source": [
    "qml.math.reduced_dm(timbit,[0])  # Use this instead?"
   ]
  },
  {
   "cell_type": "code",
   "execution_count": null,
   "id": "e92b195c",
   "metadata": {},
   "outputs": [],
   "source": [
    "def density_product(r0, r1):\n",
    "    dm = np.zeros((4,4), dtype=np.complex128)\n",
    "    dm[:2,:2] = r0[0,0]*r1\n",
    "    dm[:2,2:] = r0[0,1]*r1\n",
    "    dm[2:,:2] = r0[1,0]*r1\n",
    "    dm[2:,2:] = r0[1,1]*r1\n",
    "    \n",
    "    return dm\n"
   ]
  },
  {
   "cell_type": "code",
   "execution_count": null,
   "id": "ed134173",
   "metadata": {},
   "outputs": [],
   "source": [
    "def apply_U(dm, U):\n",
    "    return U@dm@np.conj(U).T\n"
   ]
  },
  {
   "cell_type": "code",
   "execution_count": null,
   "id": "3b80e88d",
   "metadata": {},
   "outputs": [],
   "source": [
    "dm = density_product(np.array(rho_0), np.array(rho))\n",
    "dm"
   ]
  },
  {
   "cell_type": "code",
   "execution_count": null,
   "id": "7c9f4499",
   "metadata": {},
   "outputs": [],
   "source": [
    "dm_U = apply_U(dm, U)"
   ]
  },
  {
   "cell_type": "code",
   "execution_count": null,
   "id": "11bdcf3b",
   "metadata": {},
   "outputs": [],
   "source": [
    "dm_U"
   ]
  },
  {
   "cell_type": "code",
   "execution_count": null,
   "id": "a1d7bf88",
   "metadata": {},
   "outputs": [],
   "source": [
    "qml.math.reduced_dm(dm_U,[1])"
   ]
  },
  {
   "cell_type": "code",
   "execution_count": null,
   "id": "a81ec3a2",
   "metadata": {},
   "outputs": [],
   "source": [
    "for i in range(5):\n",
    "    dm_U = apply_U(dm,U)\n",
    "    tb = qml.math.reduced_dm(dm_U,[1])\n",
    "    print(tb)\n",
    "    dm = density_product(np.array(rho_0),tb)"
   ]
  },
  {
   "cell_type": "code",
   "execution_count": null,
   "id": "b4b00478",
   "metadata": {},
   "outputs": [],
   "source": [
    "tb = calculate_timbit(U_NP, rho_0, rho, 10)"
   ]
  },
  {
   "cell_type": "code",
   "execution_count": null,
   "id": "8ee04ffb",
   "metadata": {},
   "outputs": [],
   "source": [
    "tb"
   ]
  },
  {
   "cell_type": "code",
   "execution_count": null,
   "id": "31e56b47",
   "metadata": {},
   "outputs": [],
   "source": [
    "calculate_timbit(U_NP, 0.5*np.eye(2), rho, 10)"
   ]
  },
  {
   "cell_type": "code",
   "execution_count": null,
   "id": "238d5c65",
   "metadata": {},
   "outputs": [],
   "source": [
    "tb = 0.5*np.eye(2)\n",
    "last = np.copy(rho_0)\n",
    "\n",
    "print(tb)\n",
    "print(last)\n",
    "\n",
    "for _ in range(5):\n",
    "    tb = calculate_timbit(U_NP, last, tb, 15)\n",
    "    print(tb)\n",
    "    last = apply_timbit_gate(U_NP, last, tb)\n",
    "    print(last)"
   ]
  },
  {
   "cell_type": "code",
   "execution_count": null,
   "id": "6e726254",
   "metadata": {},
   "outputs": [],
   "source": [
    "tb = calculate_timbit(U_NP, rho_0, rho, 15)"
   ]
  },
  {
   "cell_type": "code",
   "execution_count": null,
   "id": "d70c9845",
   "metadata": {},
   "outputs": [],
   "source": [
    "last = apply_timbit_gate(U_NP, last, tb)"
   ]
  },
  {
   "cell_type": "code",
   "execution_count": null,
   "id": "cae64bce",
   "metadata": {},
   "outputs": [],
   "source": [
    "last"
   ]
  },
  {
   "cell_type": "code",
   "execution_count": null,
   "id": "3cb3f70b",
   "metadata": {},
   "outputs": [],
   "source": []
  }
 ],
 "metadata": {
  "kernelspec": {
   "display_name": "Python [conda env:pennylane]",
   "language": "python",
   "name": "conda-env-pennylane-py"
  },
  "language_info": {
   "codemirror_mode": {
    "name": "ipython",
    "version": 3
   },
   "file_extension": ".py",
   "mimetype": "text/x-python",
   "name": "python",
   "nbconvert_exporter": "python",
   "pygments_lexer": "ipython3",
   "version": "3.10.9"
  }
 },
 "nbformat": 4,
 "nbformat_minor": 5
}
