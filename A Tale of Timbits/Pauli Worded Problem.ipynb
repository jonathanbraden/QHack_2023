{
 "cells": [
  {
   "cell_type": "code",
   "execution_count": 1,
   "id": "63cd8121",
   "metadata": {},
   "outputs": [],
   "source": [
    "import json\n",
    "import pennylane as qml\n",
    "import pennylane.numpy as np\n",
    "import scipy"
   ]
  },
  {
   "cell_type": "code",
   "execution_count": 19,
   "id": "21389ad8",
   "metadata": {},
   "outputs": [],
   "source": [
    "def abs_dist(rho, sigma):\n",
    "    \"\"\"A function to compute the absolute value |rho - sigma|.\"\"\"\n",
    "    polar = scipy.linalg.polar(rho - sigma)\n",
    "    return polar[1]\n",
    "\n",
    "def word_dist(word):\n",
    "    \"\"\"A function which counts the non-identity operators in a Pauli word\"\"\"\n",
    "    return sum(word[i] != \"I\" for i in range(len(word)))\n",
    "\n",
    "\n",
    "# Produce the Pauli density for a given Pauli word and apply noise\n",
    "\n",
    "\n",
    "def noisy_Pauli_density(word, lmbda):\n",
    "    \"\"\"\n",
    "       A subcircuit which prepares a density matrix (I + P)/2**n for a given Pauli\n",
    "       word P, and applies depolarizing noise to each qubit. Nothing is returned.\n",
    "\n",
    "    Args:\n",
    "            word (str): A Pauli word represented as a string with characters I,  X, Y and Z.\n",
    "            lmbda (float): The probability of replacing a qubit with something random.\n",
    "    \"\"\"\n",
    "\n",
    "    n_bits = len(word)\n",
    "    \n",
    "    pw = qml.pauli.PauliWord({i:s for i,s in enumerate(word)})\n",
    "    rho = (np.eye(2**n_bits) + pw.to_mat(range(n_bits))) / 2**n_bits\n",
    "    \n",
    "    dev = qml.device('default.mixed', wires=n_bits)\n",
    "    @qml.qnode(dev)\n",
    "    def pauli_circuit(rho, sz, lmbda):\n",
    "        qml.QubitDensityMatrix(rho, wires=range(sz))\n",
    "        for i in range(sz):\n",
    "            qml.DepolarizingChannel(lmbda,wires=i)\n",
    "            \n",
    "        return qml.density_matrix(wires=range(sz))\n",
    "    \n",
    "    density_matrix = pauli_circuit(rho, n_bits, lmbda)\n",
    "    return density_matrix\n",
    "\n",
    "# Compute the trace distance from a noisy Pauli density to the maximally mixed density\n",
    "\n",
    "def maxmix_trace_dist(word, lmbda):\n",
    "    \"\"\"\n",
    "       A function compute the trace distance between a noisy density matrix, specified\n",
    "       by a Pauli word, and the maximally mixed matrix.\n",
    "\n",
    "    Args:\n",
    "            word (str): A Pauli word represented as a string with characters I, X, Y and Z.\n",
    "            lmbda (float): The probability of replacing a qubit with something random.\n",
    "\n",
    "    Returns:\n",
    "            float: The trace distance between two matrices encoding Pauli words.\n",
    "    \"\"\"\n",
    "\n",
    "\n",
    "    # Put your code here #\n",
    "    sz = len(word)\n",
    "    mixed_state = np.eye(2**sz)/2**sz\n",
    "    pauli_state = noisy_Pauli_density(word, lmbda)\n",
    "    dist = abs_dist(pauli_state, mixed_state)\n",
    "    return 0.5*np.trace(dist)\n",
    "\n",
    "\n",
    "def bound_verifier(word, lmbda):\n",
    "    \"\"\"\n",
    "       A simple check function which verifies the trace distance from a noisy Pauli density\n",
    "       to the maximally mixed matrix is bounded by (1 - lambda)^|P|.\n",
    "\n",
    "    Args:\n",
    "            word (str): A Pauli word represented as a string with characters I, X, Y and Z.\n",
    "            lmbda (float): The probability of replacing a qubit with something random.\n",
    "\n",
    "    Returns:\n",
    "            float: The difference between (1 - lambda)^|P| and T(rho_P(lambda), rho_0).\n",
    "    \"\"\"\n",
    "\n",
    "\n",
    "    # Put your code here #\n",
    "    p = word_dist(word)\n",
    "    return (1-lmbda)**p - maxmix_trace_dist(word, lmbda)"
   ]
  },
  {
   "cell_type": "code",
   "execution_count": 14,
   "id": "a203d991",
   "metadata": {},
   "outputs": [],
   "source": [
    "word = 'XXY'\n",
    "\n",
    "pd = noisy_Pauli_density('XXY',0.1)\n",
    "mix = np.eye(2**3)/2**3\n",
    "\n",
    "dist = abs_dist(pd,mix)\n",
    "p = word_dist(word)"
   ]
  },
  {
   "cell_type": "code",
   "execution_count": 16,
   "id": "2d3176eb",
   "metadata": {},
   "outputs": [
    {
     "data": {
      "text/plain": [
       "(0.32548148148148154+0j)"
      ]
     },
     "execution_count": 16,
     "metadata": {},
     "output_type": "execute_result"
    }
   ],
   "source": [
    "maxmix_trace_dist(word, 0.1)"
   ]
  },
  {
   "cell_type": "code",
   "execution_count": 20,
   "id": "08c3c7fe",
   "metadata": {},
   "outputs": [
    {
     "data": {
      "text/plain": [
       "(0.5000000000000002+0j)"
      ]
     },
     "execution_count": 20,
     "metadata": {},
     "output_type": "execute_result"
    }
   ],
   "source": [
    "bound_verifier(word, 0.)"
   ]
  },
  {
   "cell_type": "code",
   "execution_count": 6,
   "id": "42b0965c",
   "metadata": {},
   "outputs": [],
   "source": [
    "# These functions are responsible for testing the solution.\n",
    "def run(test_case_input: str) -> str:\n",
    "\n",
    "    word, lmbda = json.loads(test_case_input)\n",
    "    output = np.real(bound_verifier(word, lmbda))\n",
    "\n",
    "    return str(output)\n",
    "\n",
    "\n",
    "def check(solution_output: str, expected_output: str) -> None:\n",
    "\n",
    "    solution_output = json.loads(solution_output)\n",
    "    expected_output = json.loads(expected_output)\n",
    "    assert np.allclose(\n",
    "        solution_output, expected_output, rtol=1e-4\n",
    "    ), \"Your trace distance isn't quite right!\""
   ]
  },
  {
   "cell_type": "code",
   "execution_count": 21,
   "id": "70bc22ca",
   "metadata": {},
   "outputs": [
    {
     "name": "stdout",
     "output_type": "stream",
     "text": [
      "Running test case 0 with input '[\"XXI\", 0.7]'...\n",
      "Correct!\n",
      "Running test case 1 with input '[\"XXIZ\", 0.1]'...\n",
      "Correct!\n",
      "Running test case 2 with input '[\"YIZ\", 0.3]'...\n",
      "Correct!\n",
      "Running test case 3 with input '[\"ZZZZZZZXXX\", 0.1]'...\n",
      "Correct!\n"
     ]
    }
   ],
   "source": [
    "test_cases = [['[\"XXI\", 0.7]', '0.0877777777777777'], ['[\"XXIZ\", 0.1]', '0.4035185185185055'], ['[\"YIZ\", 0.3]', '0.30999999999999284'], ['[\"ZZZZZZZXXX\", 0.1]', '0.22914458207245006']]\n",
    "\n",
    "for i, (input_, expected_output) in enumerate(test_cases):\n",
    "    print(f\"Running test case {i} with input '{input_}'...\")\n",
    "\n",
    "    try:\n",
    "        output = run(input_)\n",
    "\n",
    "    except Exception as exc:\n",
    "        print(f\"Runtime Error. {exc}\")\n",
    "\n",
    "    else:\n",
    "        if message := check(output, expected_output):\n",
    "            print(f\"Wrong Answer. Have: '{output}'. Want: '{expected_output}'.\")\n",
    "\n",
    "        else:\n",
    "            print(\"Correct!\")"
   ]
  },
  {
   "cell_type": "code",
   "execution_count": null,
   "id": "a04a9e1e",
   "metadata": {},
   "outputs": [],
   "source": []
  }
 ],
 "metadata": {
  "kernelspec": {
   "display_name": "Python [conda env:pennylane]",
   "language": "python",
   "name": "conda-env-pennylane-py"
  },
  "language_info": {
   "codemirror_mode": {
    "name": "ipython",
    "version": 3
   },
   "file_extension": ".py",
   "mimetype": "text/x-python",
   "name": "python",
   "nbconvert_exporter": "python",
   "pygments_lexer": "ipython3",
   "version": "3.10.9"
  }
 },
 "nbformat": 4,
 "nbformat_minor": 5
}
