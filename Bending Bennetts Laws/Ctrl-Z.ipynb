{
 "cells": [
  {
   "cell_type": "code",
   "execution_count": 1,
   "id": "3d28b9a4",
   "metadata": {},
   "outputs": [],
   "source": [
    "import pennylane as qml\n",
    "import pennylane.numpy as np"
   ]
  },
  {
   "cell_type": "code",
   "execution_count": 27,
   "id": "e8d3dfa5",
   "metadata": {},
   "outputs": [],
   "source": [
    "dev = qml.device('default.qubit',wires=3)\n",
    "\n",
    "@qml.qnode(dev)\n",
    "def AND(j,k):\n",
    "    if j==1:\n",
    "        qml.PauliX(wires=1)\n",
    "    if k==1:\n",
    "        qml.PauliX(wires=2)\n",
    "        \n",
    "    # Code here\n",
    "    qml.PauliX(wires=0)\n",
    "    \n",
    "    qml.ControlledQubitUnitary(qml.CZ(wires=[1,2]).matrix(), control_wires=[0], wires=[1,2])\n",
    "    \n",
    "    # Code here\n",
    "    qml.Toffoli(wires=[1,2,0])\n",
    "    qml.PauliX(wires=0)\n",
    "    \n",
    "    return qml.probs(wires=0)"
   ]
  },
  {
   "cell_type": "code",
   "execution_count": 31,
   "id": "991ee599",
   "metadata": {},
   "outputs": [
    {
     "data": {
      "text/plain": [
       "tensor([1., 0.], requires_grad=True)"
      ]
     },
     "execution_count": 31,
     "metadata": {},
     "output_type": "execute_result"
    }
   ],
   "source": [
    "AND(0,0)"
   ]
  },
  {
   "cell_type": "code",
   "execution_count": null,
   "id": "19bf49b4",
   "metadata": {},
   "outputs": [],
   "source": []
  }
 ],
 "metadata": {
  "kernelspec": {
   "display_name": "Python [conda env:pennylane]",
   "language": "python",
   "name": "conda-env-pennylane-py"
  },
  "language_info": {
   "codemirror_mode": {
    "name": "ipython",
    "version": 3
   },
   "file_extension": ".py",
   "mimetype": "text/x-python",
   "name": "python",
   "nbconvert_exporter": "python",
   "pygments_lexer": "ipython3",
   "version": "3.10.9"
  }
 },
 "nbformat": 4,
 "nbformat_minor": 5
}
