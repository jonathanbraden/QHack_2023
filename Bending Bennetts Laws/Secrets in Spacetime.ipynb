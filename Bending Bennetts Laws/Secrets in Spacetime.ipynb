{
 "cells": [
  {
   "cell_type": "code",
   "execution_count": 4,
   "id": "5b5dcd31",
   "metadata": {},
   "outputs": [],
   "source": [
    "import json\n",
    "import pennylane as qml\n",
    "import pennylane.numpy as np"
   ]
  },
  {
   "cell_type": "code",
   "execution_count": 39,
   "id": "3e4b562e",
   "metadata": {},
   "outputs": [],
   "source": [
    "def U_psi(theta):\n",
    "    \"\"\"\n",
    "    Quantum function that generates |psi>, Zenda's state wants to send to Reece.\n",
    "\n",
    "    Args:\n",
    "        theta (float): Parameter that generates the state.\n",
    "\n",
    "    \"\"\"\n",
    "    qml.Hadamard(wires = 0)\n",
    "    qml.CRX(theta, wires = [0,1])\n",
    "    qml.CRZ(theta, wires = [0,1])\n",
    "\n",
    "def is_unsafe(alpha, beta, epsilon):\n",
    "    \"\"\"\n",
    "    Boolean function that we will use to know if a set of parameters is unsafe.\n",
    "\n",
    "    Args:\n",
    "        alpha (float): parameter used to encode the state.\n",
    "        beta (float): parameter used to encode the state.\n",
    "        epsilon (float): unsafe-tolerance.\n",
    "\n",
    "    Returns:\n",
    "        (bool): 'True' if alpha and beta are epsilon-unsafe coefficients. 'False' in the other case.\n",
    "\n",
    "    \"\"\"\n",
    "\n",
    "\n",
    "    # Put your code here #\n",
    "    dev = qml.device('default.qubit',wires=2)\n",
    "    \n",
    "    @qml.qnode(dev)\n",
    "    def circuit(theta,alpha,beta):\n",
    "        \n",
    "        U_psi(theta)\n",
    "        qml.RZ(alpha,wires=0)\n",
    "        qml.RZ(alpha,wires=1)\n",
    "        qml.RX(beta,wires=0)\n",
    "        qml.RX(beta,wires=1)\n",
    "        \n",
    "        return qml.state()\n",
    "    \n",
    "    dev2 = qml.device('default.qubit',wires=2)\n",
    "    @qml.qnode(dev2)\n",
    "    def circuit_u(theta):\n",
    "        U_psi(theta)\n",
    "        \n",
    "        return qml.state()\n",
    "    \n",
    "    def get_prob(theta, alpha, beta):\n",
    "        psi = circuit(theta, alpha, beta)\n",
    "        chi = circuit_u(theta)\n",
    "        \n",
    "        prob = np.abs( np.sum(np.conj(chi)*psi) )**2\n",
    "        return prob\n",
    "        \n",
    "    theta_vals = np.linspace(0.,2.*np.pi,101)\n",
    "    probs = []\n",
    "    for t_ in theta_vals:\n",
    "        probs.append(get_prob(t_,alpha,beta))\n",
    "     \n",
    "    return np.max(np.array(probs)) >= (1-epsilon)\n"
   ]
  },
  {
   "cell_type": "code",
   "execution_count": 6,
   "id": "d2bcf7b7",
   "metadata": {},
   "outputs": [],
   "source": [
    "# These functions are responsible for testing the solution.\n",
    "def run(test_case_input: str) -> str:\n",
    "    ins = json.loads(test_case_input)\n",
    "    output = is_unsafe(*ins)\n",
    "    return str(output)\n",
    "\n",
    "def check(solution_output: str, expected_output: str) -> None:\n",
    "    \n",
    "    def bool_to_int(string):\n",
    "        if string == \"True\":\n",
    "            return 1\n",
    "        return 0\n",
    "\n",
    "    solution_output = bool_to_int(solution_output)\n",
    "    expected_output = bool_to_int(expected_output)\n",
    "    assert solution_output == expected_output, \"The solution is not correct.\""
   ]
  },
  {
   "cell_type": "code",
   "execution_count": 40,
   "id": "b378ac3a",
   "metadata": {},
   "outputs": [
    {
     "name": "stdout",
     "output_type": "stream",
     "text": [
      "Running test case 0 with input '[0.1, 0.2, 0.3]'...\n",
      "Correct!\n",
      "Running test case 1 with input '[1.1, 1.2, 0.3]'...\n",
      "Correct!\n",
      "Running test case 2 with input '[1.1, 1.2, 0.4]'...\n",
      "Correct!\n",
      "Running test case 3 with input '[0.5, 1.9, 0.7]'...\n",
      "Correct!\n"
     ]
    }
   ],
   "source": [
    "test_cases = [['[0.1, 0.2, 0.3]', 'True'], ['[1.1, 1.2, 0.3]', 'False'], ['[1.1, 1.2, 0.4]', 'True'], ['[0.5, 1.9, 0.7]', 'True']]\n",
    "\n",
    "for i, (input_, expected_output) in enumerate(test_cases):\n",
    "    print(f\"Running test case {i} with input '{input_}'...\")\n",
    "\n",
    "    try:\n",
    "        output = run(input_)\n",
    "\n",
    "    except Exception as exc:\n",
    "        print(f\"Runtime Error. {exc}\")\n",
    "\n",
    "    else:\n",
    "        if message := check(output, expected_output):\n",
    "            print(f\"Wrong Answer. Have: '{output}'. Want: '{expected_output}'.\")\n",
    "\n",
    "        else:\n",
    "            print(\"Correct!\")"
   ]
  },
  {
   "cell_type": "code",
   "execution_count": null,
   "id": "c70752db",
   "metadata": {},
   "outputs": [],
   "source": []
  }
 ],
 "metadata": {
  "kernelspec": {
   "display_name": "Python [conda env:pennylane]",
   "language": "python",
   "name": "conda-env-pennylane-py"
  },
  "language_info": {
   "codemirror_mode": {
    "name": "ipython",
    "version": 3
   },
   "file_extension": ".py",
   "mimetype": "text/x-python",
   "name": "python",
   "nbconvert_exporter": "python",
   "pygments_lexer": "ipython3",
   "version": "3.10.9"
  }
 },
 "nbformat": 4,
 "nbformat_minor": 5
}
