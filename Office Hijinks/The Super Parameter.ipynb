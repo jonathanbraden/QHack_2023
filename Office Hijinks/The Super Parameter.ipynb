{
 "cells": [
  {
   "cell_type": "code",
   "execution_count": 1,
   "id": "704fd6ff",
   "metadata": {},
   "outputs": [],
   "source": [
    "import json\n",
    "import pennylane as qml\n",
    "import pennylane.numpy as np"
   ]
  },
  {
   "cell_type": "code",
   "execution_count": 2,
   "id": "ad88c44b",
   "metadata": {},
   "outputs": [],
   "source": [
    "dev = qml.device(\"default.qubit\", wires=3)\n",
    "\n",
    "\n",
    "@qml.qnode(dev)\n",
    "def model(alpha):\n",
    "    \"\"\"In this qnode you will define your model in such a way that there is a single \n",
    "    parameter alpha which returns each of the basic states.\n",
    "\n",
    "    Args:\n",
    "        alpha (float): The only parameter of the model.\n",
    "\n",
    "    Returns:\n",
    "        (numpy.tensor): The probability vector of the resulting quantum state.\n",
    "    \"\"\"\n",
    "    # Put your code here #\n",
    "    qml.RY(alpha*np.pi,wires=2)\n",
    "    \n",
    "    if 1<=alpha<2:\n",
    "        qml.RY(np.pi*(alpha-1),wires=1)\n",
    "    elif 5<=alpha<6:\n",
    "        qml.RY(np.pi*(alpha-5),wires=1)\n",
    "    elif 2<=alpha<3 or 6<=alpha:\n",
    "        qml.RY(np.pi,wires=1)\n",
    "    elif 3<=alpha<4:\n",
    "        qml.RY(np.pi+np.pi*(alpha-3),wires=1)\n",
    "    \n",
    "    if alpha>=4:\n",
    "        qml.RY(np.pi, wires=0)\n",
    "    elif 3<=alpha<4:\n",
    "        qml.RY(np.pi*(alpha-3.),wires=0)\n",
    "    \n",
    "    return qml.probs(wires=range(3))\n",
    "\n",
    "def generate_coefficients():\n",
    "    \"\"\"This function must return a list of 8 different values of the parameter that\n",
    "    generate the states 000, 001, 010, ..., 111, respectively, with your ansatz.\n",
    "\n",
    "    Returns:\n",
    "        (list(int)): A list of eight real numbers.\n",
    "    \"\"\"\n",
    "    # Put your code here #\n",
    "    return np.arange(8)"
   ]
  },
  {
   "cell_type": "code",
   "execution_count": 3,
   "id": "dd7236d0",
   "metadata": {},
   "outputs": [
    {
     "name": "stdout",
     "output_type": "stream",
     "text": [
      "[0 1 2 3 4 5 6 7]\n"
     ]
    }
   ],
   "source": [
    "c = generate_coefficients()\n",
    "print(c)"
   ]
  },
  {
   "cell_type": "code",
   "execution_count": 4,
   "id": "1d2508c3",
   "metadata": {},
   "outputs": [
    {
     "name": "stdout",
     "output_type": "stream",
     "text": [
      "[1. 0. 0. 0. 0. 0. 0. 0.]\n",
      "[3.74939946e-33 1.00000000e+00 0.00000000e+00 0.00000000e+00\n",
      " 0.00000000e+00 0.00000000e+00 0.00000000e+00 0.00000000e+00]\n",
      "[3.74939946e-33 5.62319851e-65 1.00000000e+00 1.49975978e-32\n",
      " 0.00000000e+00 0.00000000e+00 0.00000000e+00 0.00000000e+00]\n",
      "[1.26521967e-64 3.74939946e-33 3.37445951e-32 1.00000000e+00\n",
      " 0.00000000e+00 0.00000000e+00 0.00000000e+00 0.00000000e+00]\n",
      "[3.74939946e-33 2.24927941e-64 0.00000000e+00 0.00000000e+00\n",
      " 1.00000000e+00 5.99903913e-32 0.00000000e+00 0.00000000e+00]\n",
      "[3.51449907e-64 3.74939946e-33 0.00000000e+00 0.00000000e+00\n",
      " 9.37349864e-32 1.00000000e+00 0.00000000e+00 0.00000000e+00]\n",
      "[1.40579963e-65 1.89752557e-96 3.74939946e-33 5.06087866e-64\n",
      " 3.74939946e-33 5.06087866e-64 1.00000000e+00 1.34978380e-31]\n",
      "[2.58274314e-96 1.40579963e-65 6.88841818e-64 3.74939946e-33\n",
      " 6.88841818e-64 3.74939946e-33 1.83720573e-31 1.00000000e+00]\n"
     ]
    }
   ],
   "source": [
    "for c_ in c:\n",
    "    print(model(c_))"
   ]
  },
  {
   "cell_type": "code",
   "execution_count": null,
   "id": "57ae4887",
   "metadata": {},
   "outputs": [],
   "source": [
    "model(10.1)"
   ]
  },
  {
   "cell_type": "code",
   "execution_count": 12,
   "id": "b92cc02c",
   "metadata": {},
   "outputs": [],
   "source": [
    "interval = np.arange(0,10,0.001)\n",
    "\n",
    "for p in interval:\n",
    "    x = [p-0.001, p, p+0.001]\n",
    "    y = [model(x_) for x_ in x]\n",
    "    average = sum(y) / len(y)\n",
    "#is_continuous_in_interval(model,interval)"
   ]
  },
  {
   "cell_type": "code",
   "execution_count": 13,
   "id": "9ed32775",
   "metadata": {},
   "outputs": [],
   "source": [
    "# These functions are responsible for testing the solution.\n",
    "def run(test_case_input: str) -> str:\n",
    "    return None\n",
    "\n",
    "def check(solution_output, expected_output: str) -> None:\n",
    "    coefs = generate_coefficients()\n",
    "    output = np.array([model(c) for c in coefs])\n",
    "    epsilon = 0.001\n",
    "\n",
    "    for i in range(len(coefs)):\n",
    "        assert np.isclose(output[i][i], 1)\n",
    "        \n",
    "    def is_continuous(function, point):\n",
    "        limit = calculate_limit(function, point)\n",
    "\n",
    "        if limit is not None and sum(abs(limit - function(point))) < epsilon:\n",
    "            return True\n",
    "        else:\n",
    "            return False\n",
    "\n",
    "    def is_continuous_in_interval(function, interval):\n",
    "        for point in interval:\n",
    "            if not is_continuous(function, point):\n",
    "                return False\n",
    "        return True\n",
    "\n",
    "    def calculate_limit(function, point):\n",
    "        x_values = [point - epsilon, point, point + epsilon]\n",
    "        y_values = [function(x) for x in x_values]\n",
    "        average = sum(y_values) / len(y_values)\n",
    "\n",
    "        return average\n",
    "\n",
    "    assert is_continuous_in_interval(model, np.arange(0,10,0.001))\n",
    "\n",
    "    for coef in coefs:\n",
    "        assert coef >= 0 and coef <= 10"
   ]
  },
  {
   "cell_type": "code",
   "execution_count": 14,
   "id": "e5765bc6",
   "metadata": {},
   "outputs": [
    {
     "name": "stdout",
     "output_type": "stream",
     "text": [
      "Running test case 0 with input 'No input'...\n",
      "Correct!\n"
     ]
    }
   ],
   "source": [
    "test_cases = [['No input', 'No output']]\n",
    "\n",
    "for i, (input_, expected_output) in enumerate(test_cases):\n",
    "    print(f\"Running test case {i} with input '{input_}'...\")\n",
    "\n",
    "    try:\n",
    "        output = run(input_)\n",
    "\n",
    "    except Exception as exc:\n",
    "        print(f\"Runtime Error. {exc}\")\n",
    "\n",
    "    else:\n",
    "        if message := check(output, expected_output):\n",
    "            print(f\"Wrong Answer. Have: '{output}'. Want: '{expected_output}'.\")\n",
    "\n",
    "        else:\n",
    "            print(\"Correct!\")"
   ]
  },
  {
   "cell_type": "code",
   "execution_count": null,
   "id": "22a2bc87",
   "metadata": {},
   "outputs": [],
   "source": []
  }
 ],
 "metadata": {
  "kernelspec": {
   "display_name": "Python [conda env:pennylane]",
   "language": "python",
   "name": "conda-env-pennylane-py"
  },
  "language_info": {
   "codemirror_mode": {
    "name": "ipython",
    "version": 3
   },
   "file_extension": ".py",
   "mimetype": "text/x-python",
   "name": "python",
   "nbconvert_exporter": "python",
   "pygments_lexer": "ipython3",
   "version": "3.10.9"
  }
 },
 "nbformat": 4,
 "nbformat_minor": 5
}
