{
 "cells": [
  {
   "cell_type": "code",
   "execution_count": 1,
   "id": "7b291534",
   "metadata": {},
   "outputs": [],
   "source": [
    "import json\n",
    "import pennylane as qml\n",
    "import pennylane.numpy as np\n"
   ]
  },
  {
   "cell_type": "code",
   "execution_count": 2,
   "id": "13fda566",
   "metadata": {},
   "outputs": [],
   "source": [
    "dev = qml.device(\"default.qubit\", wires=[\"e1\", \"e2\", \"e3\", \"e4\", \"result\"], shots=1)\n",
    "dev.operations.add(\"op\")\n",
    "\n",
    "wires = [\"e1\", \"e2\", \"e3\", \"e4\", \"result\"]\n",
    "workers = [\"e1\",\"e2\",\"e3\",\"e4\"]\n",
    "\n",
    "@qml.qnode(dev)\n",
    "def circuit(project_execution):\n",
    "    \"\"\"This is the circuit we will use to detect which is the lazy worker. Remember \n",
    "    that we will only execute one shot.\n",
    "\n",
    "    Args:\n",
    "        project_execution (qml.ops): \n",
    "            The gate in charge of marking in the last qubit if the project has been finished\n",
    "            as indicated in the statement.\n",
    "\n",
    "    Returns:\n",
    "        (numpy.tensor): Measurement output in the 5 qubits after a shot.\n",
    "    \"\"\"\n",
    "    # Put your code here #\n",
    "    workers = [\"e1\",\"e2\",\"e3\",\"e4\"]\n",
    "\n",
    "    basis = np.zeros((2**4,))\n",
    "    basis[7] = 0.5; basis[11] = 0.5; basis[13] = 0.5; basis[14] = 0.5\n",
    "    grov = 2.*np.outer(basis,basis) - np.eye(2**4)\n",
    "    \n",
    "    qml.QubitStateVector(basis,wires=workers)\n",
    "    qml.PauliX(wires='result')\n",
    "    qml.Hadamard(wires='result')\n",
    "    \n",
    "    # Swap comments to interactively test without the testing loop\n",
    "    project_execution(wires=wires)\n",
    "    #qml.MultiControlledX(wires=['e1', 'e2', 'e4', 'result'])\n",
    "    \n",
    "    # Put your code here #\n",
    "    qml.QubitUnitary(grov,wires=workers)\n",
    "    qml.Hadamard(wires='result')\n",
    "    \n",
    "    return qml.sample(wires=dev.wires)\n",
    "\n",
    "def process_output(measurement):\n",
    "    \"\"\"This function will take the circuit measurement and process it to determine who is the lazy worker.\n",
    "\n",
    "    Args:\n",
    "        measurement (numpy.tensor): Measurement output in the 5 qubits after a shot.\n",
    "\n",
    "    Returns:\n",
    "        (str): This function must return \"e1\", \"e2\" \"e3\" or \"e4\" - the lazy worker.\n",
    "    \"\"\"\n",
    "    # Put your code here #\n",
    "    wire_map = {0:\"e1\",1:\"e2\",2:\"e3\",3:\"e4\"}\n",
    "    return wire_map[measurement[:4].argmin()]"
   ]
  },
  {
   "cell_type": "code",
   "execution_count": null,
   "id": "15d22721",
   "metadata": {},
   "outputs": [],
   "source": [
    "circuit(0)"
   ]
  },
  {
   "cell_type": "code",
   "execution_count": null,
   "id": "2ec5acae",
   "metadata": {},
   "outputs": [],
   "source": [
    "for b_ in ['0111','1011','1101','1110']:\n",
    "    print(int(b_,base=2))"
   ]
  },
  {
   "cell_type": "code",
   "execution_count": 3,
   "id": "04bbcf0c",
   "metadata": {},
   "outputs": [],
   "source": [
    "# These functions are responsible for testing the solution.\n",
    "\n",
    "def run(test_case_input: str) -> str:\n",
    "    return None\n",
    "\n",
    "def check(solution_output: str, expected_output: str) -> None:\n",
    "    samples = 5000\n",
    "\n",
    "    solutions = []\n",
    "    output = []\n",
    "\n",
    "    for s in range(samples):\n",
    "        lazy = np.random.randint(0, 4)\n",
    "        no_lazy = list(range(4))\n",
    "        no_lazy.pop(lazy)\n",
    "\n",
    "        def project_execution(wires):\n",
    "            class op(qml.operation.Operator):\n",
    "                num_wires = 5\n",
    "\n",
    "                def compute_decomposition(self, wires):\n",
    "                    raise ValueError(\"You cant descompose this gate\")\n",
    "\n",
    "                def matrix(self):\n",
    "                    m = np.zeros([32, 32])\n",
    "                    for i in range(32):\n",
    "                        b = [int(j) for j in bin(64 + i)[-5:]]\n",
    "                        if sum(np.array(b)[no_lazy]) == 3:\n",
    "                            if b[-1] == 0:\n",
    "                                m[i, i + 1] = 1\n",
    "                            else:\n",
    "                                m[i, i - 1] = 1\n",
    "                        else:\n",
    "                            m[i, i] = 1\n",
    "                    return m\n",
    "\n",
    "            op(wires=wires)\n",
    "            return None\n",
    "\n",
    "        out = circuit(project_execution)\n",
    "        solutions.append(lazy + 1)\n",
    "        output.append(int(process_output(out)[-1]))\n",
    "\n",
    "    assert np.allclose(\n",
    "        output, solutions, rtol=1e-4\n",
    "    ), \"Your circuit does not give the correct output.\"\n",
    "\n",
    "    ops = [op.name for op in circuit.tape.operations]\n",
    "    assert ops.count(\"op\") == 1, \"You have used the oracle more than one time.\""
   ]
  },
  {
   "cell_type": "code",
   "execution_count": 4,
   "id": "cb8cffa3",
   "metadata": {},
   "outputs": [
    {
     "name": "stdout",
     "output_type": "stream",
     "text": [
      "Running test case 0 with input 'No input'...\n",
      "Correct!\n"
     ]
    }
   ],
   "source": [
    "test_cases = [['No input', 'No output']]\n",
    "\n",
    "for i, (input_, expected_output) in enumerate(test_cases):\n",
    "    print(f\"Running test case {i} with input '{input_}'...\")\n",
    "\n",
    "    try:\n",
    "        output = run(input_)\n",
    "\n",
    "    except Exception as exc:\n",
    "        print(f\"Runtime Error. {exc}\")\n",
    "\n",
    "    else:\n",
    "        if message := check(output, expected_output):\n",
    "            print(f\"Wrong Answer. Have: '{output}'. Want: '{expected_output}'.\")\n",
    "\n",
    "        else:\n",
    "            print(\"Correct!\")"
   ]
  },
  {
   "cell_type": "code",
   "execution_count": null,
   "id": "65366d8b",
   "metadata": {},
   "outputs": [],
   "source": []
  }
 ],
 "metadata": {
  "kernelspec": {
   "display_name": "Python [conda env:pennylane]",
   "language": "python",
   "name": "conda-env-pennylane-py"
  },
  "language_info": {
   "codemirror_mode": {
    "name": "ipython",
    "version": 3
   },
   "file_extension": ".py",
   "mimetype": "text/x-python",
   "name": "python",
   "nbconvert_exporter": "python",
   "pygments_lexer": "ipython3",
   "version": "3.10.9"
  }
 },
 "nbformat": 4,
 "nbformat_minor": 5
}
