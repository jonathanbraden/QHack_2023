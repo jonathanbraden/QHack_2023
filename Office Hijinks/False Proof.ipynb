{
 "cells": [
  {
   "cell_type": "code",
   "execution_count": 1,
   "id": "614e28be",
   "metadata": {},
   "outputs": [],
   "source": [
    "import json\n",
    "import pennylane as qml\n",
    "import pennylane.numpy as np"
   ]
  },
  {
   "cell_type": "code",
   "execution_count": 43,
   "id": "412ac4d0",
   "metadata": {},
   "outputs": [],
   "source": [
    "dev = qml.device(\"default.qubit\", wires=2, shots=1)\n",
    "dev.operations.add(\"op\")\n",
    "dev.operations.add(\"C(op)\")\n",
    "\n",
    "\n",
    "@qml.qnode(dev)\n",
    "def circuit(U):\n",
    "    \"\"\"This will be the circuit you will use to determine which of the two angles we have.\n",
    "    Remember that only a single shot will be executed.\n",
    "\n",
    "    Args:\n",
    "        U (qml.ops): It is the gate to discriminate between  RY(2pi/3) or RY(4pi/3).\n",
    "\n",
    "    Returns:\n",
    "        (numpy.tensor): Vector of two elements representing the output measured in each of the qubits.\n",
    "    \"\"\"\n",
    "    # Put your code here #\n",
    "    qml.PauliX(wires=0)\n",
    "    qml.Hadamard(wires=0)\n",
    "    for i in range(3):\n",
    "        qml.ctrl(U, control=0)(wires=1)\n",
    "    qml.Hadamard(wires=0)\n",
    "    \n",
    "    return qml.sample(wires=range(2))\n",
    "\n",
    "def process_output(measurement):\n",
    "    \"\"\"This function processes the output of the circuit to discriminate between gates.\n",
    "\n",
    "    Args:\n",
    "        measurement (numpy.array): Output of the previous circuit a vector of dimension 2.\n",
    "\n",
    "    Returns:\n",
    "        (int): return 2 or 4 depending on the associated RY gate.\n",
    "    \"\"\"\n",
    "    # Put your code here #\n",
    "    return 2*(1+measurement[0].numpy())\n",
    "    "
   ]
  },
  {
   "cell_type": "code",
   "execution_count": 18,
   "id": "cbeb6d13",
   "metadata": {},
   "outputs": [],
   "source": [
    "def U4(wires):\n",
    "    class op(qml.operation.Operator):\n",
    "        num_wires = 1\n",
    "\n",
    "        def compute_decomposition(self, wires):\n",
    "            raise ValueError(\"You cannot decompose this gate\")\n",
    "\n",
    "        def matrix(self):\n",
    "            return qml.matrix(qml.RY(4 * np.pi / 3, wires=3))\n",
    "\n",
    "    op(wires=wires)\n",
    "    return None"
   ]
  },
  {
   "cell_type": "code",
   "execution_count": 16,
   "id": "abe2f577",
   "metadata": {},
   "outputs": [],
   "source": [
    "def U2(wires):\n",
    "    class op(qml.operation.Operator):\n",
    "        num_wires = 1\n",
    "\n",
    "        def compute_decomposition(self, wires):\n",
    "            raise ValueError(\"You cannot decompose this gate\")\n",
    "\n",
    "        def matrix(self):\n",
    "            return qml.matrix(qml.RY(2 * np.pi / 3, wires=3))\n",
    "\n",
    "    op(wires=wires)\n",
    "    return None"
   ]
  },
  {
   "cell_type": "code",
   "execution_count": 35,
   "id": "aa35daa0",
   "metadata": {},
   "outputs": [
    {
     "data": {
      "text/plain": [
       "tensor([0, 0], requires_grad=True)"
      ]
     },
     "execution_count": 35,
     "metadata": {},
     "output_type": "execute_result"
    }
   ],
   "source": [
    "circuit(U2)"
   ]
  },
  {
   "cell_type": "code",
   "execution_count": 39,
   "id": "b9a111c4",
   "metadata": {},
   "outputs": [
    {
     "data": {
      "text/plain": [
       "tensor([1, 0], requires_grad=True)"
      ]
     },
     "execution_count": 39,
     "metadata": {},
     "output_type": "execute_result"
    }
   ],
   "source": [
    "circuit(U4)"
   ]
  },
  {
   "cell_type": "code",
   "execution_count": 41,
   "id": "f1d2cd88",
   "metadata": {},
   "outputs": [],
   "source": [
    "# These functions are responsible for testing the solution.\n",
    "def run(test_case_input: str) -> str:\n",
    "    return None\n",
    "\n",
    "def check(solution_output: str, expected_output: str) -> None:\n",
    "    numbers = 2 * np.random.randint(1, 3, 5000)\n",
    "\n",
    "    def U2(wires):\n",
    "        class op(qml.operation.Operator):\n",
    "            num_wires = 1\n",
    "\n",
    "            def compute_decomposition(self, wires):\n",
    "                raise ValueError(\"You cannot decompose this gate\")\n",
    "\n",
    "            def matrix(self):\n",
    "                return qml.matrix(qml.RY(2 * np.pi / 3, wires=3))\n",
    "\n",
    "        op(wires=wires)\n",
    "        return None\n",
    "\n",
    "    def U4(wires):\n",
    "        class op(qml.operation.Operator):\n",
    "            num_wires = 1\n",
    "\n",
    "            def compute_decomposition(self, wires):\n",
    "                raise ValueError(\"You cannot decompose this gate\")\n",
    "\n",
    "            def matrix(self):\n",
    "                return qml.matrix(qml.RY(4 * np.pi / 3, wires=3))\n",
    "\n",
    "        op(wires=wires)\n",
    "        return None\n",
    "\n",
    "    output = []\n",
    "    for i in numbers:\n",
    "        if i == 2:\n",
    "            U = U2\n",
    "        else:\n",
    "            U = U4\n",
    "        out = circuit(U)\n",
    "        output.append(process_output(out))\n",
    "\n",
    "    assert np.allclose(\n",
    "        output, numbers, rtol=1e-4\n",
    "    ), \"Your circuit does not give the correct output.\""
   ]
  },
  {
   "cell_type": "code",
   "execution_count": 44,
   "id": "ad624936",
   "metadata": {},
   "outputs": [
    {
     "name": "stdout",
     "output_type": "stream",
     "text": [
      "Running test case 0 with input 'No input'...\n",
      "Correct!\n"
     ]
    }
   ],
   "source": [
    "test_cases = [['No input', 'No output']]\n",
    "\n",
    "for i, (input_, expected_output) in enumerate(test_cases):\n",
    "    print(f\"Running test case {i} with input '{input_}'...\")\n",
    "\n",
    "    try:\n",
    "        output = run(input_)\n",
    "\n",
    "    except Exception as exc:\n",
    "        print(f\"Runtime Error. {exc}\")\n",
    "\n",
    "    else:\n",
    "        if message := check(output, expected_output):\n",
    "            print(f\"Wrong Answer. Have: '{output}'. Want: '{expected_output}'.\")\n",
    "\n",
    "        else:\n",
    "            print(\"Correct!\")"
   ]
  },
  {
   "cell_type": "code",
   "execution_count": null,
   "id": "8c59cc36",
   "metadata": {},
   "outputs": [],
   "source": []
  }
 ],
 "metadata": {
  "kernelspec": {
   "display_name": "Python [conda env:pennylane]",
   "language": "python",
   "name": "conda-env-pennylane-py"
  },
  "language_info": {
   "codemirror_mode": {
    "name": "ipython",
    "version": 3
   },
   "file_extension": ".py",
   "mimetype": "text/x-python",
   "name": "python",
   "nbconvert_exporter": "python",
   "pygments_lexer": "ipython3",
   "version": "3.10.9"
  }
 },
 "nbformat": 4,
 "nbformat_minor": 5
}
