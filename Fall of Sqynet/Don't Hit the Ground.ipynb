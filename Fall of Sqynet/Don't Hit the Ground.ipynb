{
 "cells": [
  {
   "cell_type": "code",
   "execution_count": 3,
   "id": "7ab5e026",
   "metadata": {},
   "outputs": [],
   "source": [
    "import json\n",
    "import pennylane as qml\n",
    "import pennylane.numpy as np"
   ]
  },
  {
   "cell_type": "code",
   "execution_count": 20,
   "id": "187964d0",
   "metadata": {},
   "outputs": [],
   "source": [
    "def half_life(gamma, p):\n",
    "    \"\"\"Calculates the relaxation half-life of a quantum system that exchanges energy with its environment.\n",
    "    This process is modeled via Generalized Amplitude Damping.\n",
    "\n",
    "    Args:\n",
    "        gamma (float): \n",
    "            The probability per unit time of the system losing a quantum of energy\n",
    "            to the environment.\n",
    "        p (float): The de-excitation probability due to environmental effect\n",
    "\n",
    "    Returns:\n",
    "        (float): The relaxation haf-life of the system, as explained in the problem statement.\n",
    "    \"\"\"\n",
    "\n",
    "    num_wires = 1\n",
    "\n",
    "    dev = qml.device(\"default.mixed\", wires=num_wires)\n",
    "    \n",
    "    # Feel free to write helper functions or global variables here\n",
    "    \n",
    "    @qml.qnode(dev)\n",
    "    def noise(\n",
    "        gamma, p, step # add optional parameters, delete if you don't need any\n",
    "    ):\n",
    "        \"\"\"Implement the sequence of Generalized Amplitude Damping channels in this QNode\n",
    "        You may pass instead of return if you solved this problem analytically, it's possible!\n",
    "\n",
    "        Args:\n",
    "            gamma (float): The probability per unit time of the system losing a quantum of energy\n",
    "            to the environment.\n",
    "        \n",
    "        Returns:\n",
    "            (float): The relaxation half-life.\n",
    "        \"\"\"\n",
    "        # Don't forget to initialize the state\n",
    "        # Put your code here #\n",
    "        qml.Hadamard(wires=0)\n",
    "        for i in range(step):\n",
    "            qml.GeneralizedAmplitudeDamping(gamma, p, wires=0)\n",
    "        # Return something or pass if you solved this analytically!\n",
    "\n",
    "        return qml.probs(wires=0)\n",
    "        \n",
    "    dt = 0.05\n",
    "    state = noise(gamma*dt, p, 0)\n",
    "    print(state)\n",
    "    step = 1\n",
    "    while state[1]>0.25:\n",
    "        state = noise(gamma*dt, p, step)\n",
    "        step += 1\n",
    "\n",
    "    return dt*step"
   ]
  },
  {
   "cell_type": "code",
   "execution_count": 21,
   "id": "10285aa5",
   "metadata": {},
   "outputs": [
    {
     "name": "stdout",
     "output_type": "stream",
     "text": [
      "[0.5 0.5]\n",
      "9.1\n"
     ]
    }
   ],
   "source": [
    "print(half_life(0.1, 0.92))"
   ]
  },
  {
   "cell_type": "code",
   "execution_count": 22,
   "id": "21a0ff6c",
   "metadata": {},
   "outputs": [],
   "source": [
    "# These functions are responsible for testing the solution.\n",
    "def run(test_case_input: str) -> str:\n",
    "\n",
    "    ins = json.loads(test_case_input)\n",
    "    output = half_life(*ins)\n",
    "\n",
    "    return str(output)\n",
    "\n",
    "def check(solution_output: str, expected_output: str) -> None:\n",
    "    solution_output = json.loads(solution_output)\n",
    "    expected_output = json.loads(expected_output)\n",
    "    assert np.allclose(\n",
    "        solution_output, expected_output, atol=2e-1\n",
    "    ), \"The relaxation half-life is not quite right.\""
   ]
  },
  {
   "cell_type": "code",
   "execution_count": 23,
   "id": "368ae231",
   "metadata": {},
   "outputs": [],
   "source": [
    "test_cases = [['[0.1,0.92]', '9.05'], ['[0.2,0.83]', '7.09']]"
   ]
  },
  {
   "cell_type": "code",
   "execution_count": 24,
   "id": "ec3a5cd2",
   "metadata": {},
   "outputs": [
    {
     "name": "stdout",
     "output_type": "stream",
     "text": [
      "Running test case 0 with input '[0.1,0.92]'...\n",
      "[0.5 0.5]\n",
      "Correct!\n",
      "Running test case 1 with input '[0.2,0.83]'...\n",
      "[0.5 0.5]\n",
      "Correct!\n"
     ]
    }
   ],
   "source": [
    "for i, (input_, expected_output) in enumerate(test_cases):\n",
    "    print(f\"Running test case {i} with input '{input_}'...\")\n",
    "\n",
    "    try:\n",
    "        output = run(input_)\n",
    "\n",
    "    except Exception as exc:\n",
    "        print(f\"Runtime Error. {exc}\")\n",
    "\n",
    "    else:\n",
    "        if message := check(output, expected_output):\n",
    "            print(f\"Wrong Answer. Have: '{output}'. Want: '{expected_output}'.\")\n",
    "\n",
    "        else:\n",
    "            print(\"Correct!\")"
   ]
  },
  {
   "cell_type": "code",
   "execution_count": null,
   "id": "ebc7844d",
   "metadata": {},
   "outputs": [],
   "source": []
  }
 ],
 "metadata": {
  "kernelspec": {
   "display_name": "Python [conda env:pennylane]",
   "language": "python",
   "name": "conda-env-pennylane-py"
  },
  "language_info": {
   "codemirror_mode": {
    "name": "ipython",
    "version": 3
   },
   "file_extension": ".py",
   "mimetype": "text/x-python",
   "name": "python",
   "nbconvert_exporter": "python",
   "pygments_lexer": "ipython3",
   "version": "3.10.9"
  }
 },
 "nbformat": 4,
 "nbformat_minor": 5
}
