{
 "cells": [
  {
   "cell_type": "code",
   "execution_count": 2,
   "id": "765cad47",
   "metadata": {},
   "outputs": [],
   "source": [
    "import json\n",
    "import pennylane as qml\n",
    "import pennylane.numpy as np"
   ]
  },
  {
   "cell_type": "code",
   "execution_count": 76,
   "id": "383dd63c",
   "metadata": {},
   "outputs": [],
   "source": [
    "def create_Hamiltonian(h):\n",
    "    \"\"\"\n",
    "    Function in charge of generating the Hamiltonian of the statement.\n",
    "\n",
    "    Args:\n",
    "        h (float): magnetic field strength\n",
    "\n",
    "    Returns:\n",
    "        (qml.Hamiltonian): Hamiltonian of the statement associated to h\n",
    "    \"\"\"\n",
    "\n",
    "\n",
    "    # Put your code here #\n",
    "    couplings = []\n",
    "    ops = []\n",
    "    \n",
    "    for i in range(4):\n",
    "        ops += [qml.PauliZ(i)@qml.PauliZ((i+1)%4)]\n",
    "        couplings += [-1]\n",
    "    for i in range(4):\n",
    "        ops += [qml.PauliX(i)]\n",
    "        couplings += [-h]\n",
    "        \n",
    "    return qml.Hamiltonian(couplings, ops)\n",
    "        \n",
    "dev = qml.device(\"default.qubit\", wires=4)\n",
    "\n",
    "@qml.qnode(dev)\n",
    "def model(params, H):\n",
    "    \"\"\"\n",
    "    To implement VQE you need an ansatz for the candidate ground state!\n",
    "    Define here the VQE ansatz in terms of some parameters (params) that\n",
    "    create the candidate ground state. These parameters will\n",
    "    be optimized later.\n",
    "\n",
    "    Args:\n",
    "        params (numpy.array): parameters to be used in the variational circuit\n",
    "        H (qml.Hamiltonian): Hamiltonian used to calculate the expected value\n",
    "\n",
    "    Returns:\n",
    "        (float): Expected value with respect to the Hamiltonian H\n",
    "    \"\"\"\n",
    "\n",
    "\n",
    "    # Put your code here #\n",
    "    for i in range(4):\n",
    "        qml.RX(params[i],i)\n",
    "        qml.RY(params[i+4],i)\n",
    "    \n",
    "    return qml.expval(H)\n",
    "\n",
    "def train(h):\n",
    "    \"\"\"\n",
    "    In this function you must design a subroutine that returns the\n",
    "    parameters that best approximate the ground state.\n",
    "\n",
    "    Args:\n",
    "        h (float): magnetic field strength\n",
    "\n",
    "    Returns:\n",
    "        (numpy.array): parameters that best approximate the ground state.\n",
    "    \"\"\"\n",
    "\n",
    "\n",
    "    # Put your code here #\n",
    "    max_it = 100\n",
    "    \n",
    "    ham = create_Hamiltonian(h)\n",
    "    \n",
    "    opt = qml.GradientDescentOptimizer(stepsize=0.4)\n",
    "    theta = np.random.uniform(low=0.,high=2.*np.pi,size=(8,), requires_grad=True)\n",
    "    \n",
    "    params = [theta]\n",
    "    energies = [model(theta,ham)]\n",
    "    tol = 1.e-3\n",
    "    \n",
    "    for n in range(max_it):\n",
    "        (theta, hnew), prev_energy = opt.step_and_cost(model, theta, ham)\n",
    "        \n",
    "        energies.append(model(theta,ham))\n",
    "        params.append(theta)\n",
    "        \n",
    "        if np.abs(prev_energy-energies[-1])<tol:\n",
    "            break\n",
    "\n",
    "    return theta"
   ]
  },
  {
   "cell_type": "code",
   "execution_count": 51,
   "id": "2b96785c",
   "metadata": {},
   "outputs": [
    {
     "data": {
      "text/plain": [
       "tensor(-0.13465367, requires_grad=True)"
      ]
     },
     "execution_count": 51,
     "metadata": {},
     "output_type": "execute_result"
    }
   ],
   "source": [
    "ham = create_Hamiltonian(0.3)\n",
    "theta=np.random.uniform(low=0.,high=2.*np.pi,size=(8,), requires_grad=True)\n",
    "model(theta,ham)"
   ]
  },
  {
   "cell_type": "code",
   "execution_count": 68,
   "id": "efebcc33",
   "metadata": {},
   "outputs": [
    {
     "name": "stdout",
     "output_type": "stream",
     "text": [
      "step  0\n",
      "step  10\n",
      "step  20\n",
      "step  30\n",
      "step  40\n",
      "step  50\n",
      "step  60\n",
      "step  70\n",
      "step  80\n",
      "step  90\n"
     ]
    }
   ],
   "source": [
    "hist = train(2.5)\n"
   ]
  },
  {
   "cell_type": "code",
   "execution_count": 69,
   "id": "83600ae3",
   "metadata": {},
   "outputs": [
    {
     "data": {
      "text/plain": [
       "[<matplotlib.lines.Line2D at 0x7f8110961930>]"
      ]
     },
     "execution_count": 69,
     "metadata": {},
     "output_type": "execute_result"
    },
    {
     "data": {
      "image/png": "[encoded data removed]",
      "text/plain": [
       "<Figure size 529.37x332.032 with 1 Axes>"
      ]
     },
     "metadata": {},
     "output_type": "display_data"
    }
   ],
   "source": [
    "import matplotlib.pyplot as plt\n",
    "%matplotlib inline\n",
    "\n",
    "plt.plot(hist[0])"
   ]
  },
  {
   "cell_type": "code",
   "execution_count": 77,
   "id": "ee682e8a",
   "metadata": {},
   "outputs": [],
   "source": [
    "# These functions are responsible for testing the solution.\n",
    "def run(test_case_input: str) -> str:\n",
    "    ins = json.loads(test_case_input)\n",
    "    params = train(ins)\n",
    "    return str(model(params, create_Hamiltonian(ins)))\n",
    "\n",
    "\n",
    "def check(solution_output: str, expected_output: str) -> None:\n",
    "    solution_output = json.loads(solution_output)\n",
    "    expected_output = json.loads(expected_output)\n",
    "    assert np.allclose(\n",
    "        solution_output, expected_output, rtol=1e-1\n",
    "    ), \"The expected value is not correct.\""
   ]
  },
  {
   "cell_type": "code",
   "execution_count": 78,
   "id": "0040ef23",
   "metadata": {},
   "outputs": [
    {
     "name": "stdout",
     "output_type": "stream",
     "text": [
      "Running test case 0 with input '1.0'...\n",
      "step  0\n",
      "step  10\n",
      "Correct!\n",
      "Running test case 1 with input '2.3'...\n",
      "step  0\n",
      "Correct!\n"
     ]
    }
   ],
   "source": [
    "test_cases = [['1.0', '-5.226251859505506'], ['2.3', '-9.66382463698038']]\n",
    "\n",
    "for i, (input_, expected_output) in enumerate(test_cases):\n",
    "    print(f\"Running test case {i} with input '{input_}'...\")\n",
    "\n",
    "    try:\n",
    "        output = run(input_)\n",
    "\n",
    "    except Exception as exc:\n",
    "        print(f\"Runtime Error. {exc}\")\n",
    "\n",
    "    else:\n",
    "        if message := check(output, expected_output):\n",
    "            print(f\"Wrong Answer. Have: '{output}'. Want: '{expected_output}'.\")\n",
    "\n",
    "        else:\n",
    "            print(\"Correct!\")"
   ]
  },
  {
   "cell_type": "code",
   "execution_count": null,
   "id": "e2dc9e92",
   "metadata": {},
   "outputs": [],
   "source": []
  }
 ],
 "metadata": {
  "kernelspec": {
   "display_name": "Python [conda env:pennylane]",
   "language": "python",
   "name": "conda-env-pennylane-py"
  },
  "language_info": {
   "codemirror_mode": {
    "name": "ipython",
    "version": 3
   },
   "file_extension": ".py",
   "mimetype": "text/x-python",
   "name": "python",
   "nbconvert_exporter": "python",
   "pygments_lexer": "ipython3",
   "version": "3.10.9"
  }
 },
 "nbformat": 4,
 "nbformat_minor": 5
}
